{
 "cells": [
  {
   "cell_type": "code",
   "execution_count": 27,
   "metadata": {
    "collapsed": false
   },
   "outputs": [],
   "source": [
    "import numpy as np\n",
    "import matplotlib.pylab as plt\n",
    "import pandas as pd"
   ]
  },
  {
   "cell_type": "code",
   "execution_count": 28,
   "metadata": {
    "collapsed": false
   },
   "outputs": [],
   "source": [
    "dataframe = pd.read_csv(\"transformed_WISDM.csv\", header=None)\n",
    "dataframe.head()\n",
    "dataframe = dataframe.sample(frac=1).reset_index(drop=True)"
   ]
  },
  {
   "cell_type": "code",
   "execution_count": 29,
   "metadata": {
    "collapsed": false
   },
   "outputs": [],
   "source": [
    "dataframe = dataframe.head(2500)"
   ]
  },
  {
   "cell_type": "code",
   "execution_count": 30,
   "metadata": {
    "collapsed": false
   },
   "outputs": [],
   "source": [
    "y_train = dataframe.ix[:, 44]"
   ]
  },
  {
   "cell_type": "code",
   "execution_count": 31,
   "metadata": {
    "collapsed": false
   },
   "outputs": [],
   "source": [
    "X_train = dataframe.drop(dataframe.columns[[0, 44]], axis=1)"
   ]
  },
  {
   "cell_type": "code",
   "execution_count": 32,
   "metadata": {
    "collapsed": false
   },
   "outputs": [
    {
     "data": {
      "text/plain": [
       "(2500, 43)"
      ]
     },
     "execution_count": 32,
     "metadata": {},
     "output_type": "execute_result"
    }
   ],
   "source": [
    "X_train.shape"
   ]
  },
  {
   "cell_type": "code",
   "execution_count": 33,
   "metadata": {
    "collapsed": true
   },
   "outputs": [],
   "source": [
    "x_numpy = X_train.values"
   ]
  },
  {
   "cell_type": "code",
   "execution_count": 34,
   "metadata": {
    "collapsed": false
   },
   "outputs": [
    {
     "data": {
      "text/plain": [
       "array([[  0.00000000e+00,   1.00000000e+00,   0.00000000e+00, ...,\n",
       "          3.03993000e-03,   8.46365000e-03,   1.06348000e+01],\n",
       "       [  1.00000000e-02,   4.65000000e-01,   4.55000000e-01, ...,\n",
       "          1.06457000e-01,   1.21822000e-01,   1.03333000e+01],\n",
       "       [  1.75000000e-01,   3.05000000e-01,   3.55000000e-01, ...,\n",
       "          3.05992000e-01,   2.73435000e-01,   1.11322000e+01],\n",
       "       ..., \n",
       "       [  0.00000000e+00,   8.00000000e-01,   2.00000000e-01, ...,\n",
       "          4.12984000e-03,   1.11831000e-03,   9.20700000e-02],\n",
       "       [  2.80000000e-01,   1.60000000e-01,   2.95000000e-01, ...,\n",
       "          5.85862000e-01,   6.34170000e-01,   1.47466000e+01],\n",
       "       [  0.00000000e+00,   9.54286000e-01,   4.57143000e-02, ...,\n",
       "          3.49541000e-03,   4.59256000e-04,   3.52985000e-02]])"
      ]
     },
     "execution_count": 34,
     "metadata": {},
     "output_type": "execute_result"
    }
   ],
   "source": [
    "x_numpy"
   ]
  },
  {
   "cell_type": "code",
   "execution_count": 35,
   "metadata": {
    "collapsed": true
   },
   "outputs": [],
   "source": [
    "from sklearn import preprocessing"
   ]
  },
  {
   "cell_type": "code",
   "execution_count": 36,
   "metadata": {
    "collapsed": true
   },
   "outputs": [],
   "source": [
    "min_max_scaler = preprocessing.MinMaxScaler()\n",
    "x_scaled = min_max_scaler.fit_transform(x_numpy)"
   ]
  },
  {
   "cell_type": "code",
   "execution_count": 37,
   "metadata": {
    "collapsed": false
   },
   "outputs": [
    {
     "data": {
      "text/plain": [
       "array([[  0.00000000e+00,   1.00000000e+00,   0.00000000e+00, ...,\n",
       "          3.01637494e-03,   1.15363625e-02,   1.47269695e-14],\n",
       "       [  1.00000000e-02,   4.65000000e-01,   4.55000000e-01, ...,\n",
       "          1.06924181e-01,   1.66839014e-01,   1.43094188e-14],\n",
       "       [  1.75000000e-01,   3.05000000e-01,   3.55000000e-01, ...,\n",
       "          3.07406017e-01,   3.74551114e-01,   1.54158243e-14],\n",
       "       ..., \n",
       "       [  0.00000000e+00,   8.00000000e-01,   2.00000000e-01, ...,\n",
       "          4.11145679e-03,   1.47313573e-03,   1.26225554e-16],\n",
       "       [  2.80000000e-01,   1.60000000e-01,   2.95000000e-01, ...,\n",
       "          5.88604059e-01,   8.68763513e-01,   2.04214471e-14],\n",
       "       [  0.00000000e+00,   9.54286000e-01,   4.57143000e-02, ...,\n",
       "          3.47401629e-03,   5.70221796e-04,   4.76020721e-17]])"
      ]
     },
     "execution_count": 37,
     "metadata": {},
     "output_type": "execute_result"
    }
   ],
   "source": [
    "x_scaled"
   ]
  },
  {
   "cell_type": "code",
   "execution_count": 38,
   "metadata": {
    "collapsed": false
   },
   "outputs": [
    {
     "data": {
      "text/plain": [
       "0        Standing\n",
       "1         Walking\n",
       "2         Walking\n",
       "3         Sitting\n",
       "4       LyingDown\n",
       "5        Standing\n",
       "6         Walking\n",
       "7         Walking\n",
       "8         Walking\n",
       "9         Walking\n",
       "10        Walking\n",
       "11       Standing\n",
       "12        Walking\n",
       "13        Walking\n",
       "14         Stairs\n",
       "15       Standing\n",
       "16        Sitting\n",
       "17       Standing\n",
       "18        Walking\n",
       "19        Sitting\n",
       "20        Sitting\n",
       "21       Standing\n",
       "22       Standing\n",
       "23        Sitting\n",
       "24        Sitting\n",
       "25        Sitting\n",
       "26        Walking\n",
       "27        Sitting\n",
       "28        Walking\n",
       "29        Walking\n",
       "          ...    \n",
       "2470       Stairs\n",
       "2471      Walking\n",
       "2472      Walking\n",
       "2473      Jogging\n",
       "2474      Sitting\n",
       "2475      Sitting\n",
       "2476      Sitting\n",
       "2477      Sitting\n",
       "2478     Standing\n",
       "2479      Walking\n",
       "2480     Standing\n",
       "2481     Standing\n",
       "2482     Standing\n",
       "2483      Walking\n",
       "2484      Walking\n",
       "2485     Standing\n",
       "2486      Walking\n",
       "2487      Jogging\n",
       "2488      Sitting\n",
       "2489     Standing\n",
       "2490     Standing\n",
       "2491      Walking\n",
       "2492      Walking\n",
       "2493      Walking\n",
       "2494    LyingDown\n",
       "2495    LyingDown\n",
       "2496      Sitting\n",
       "2497     Standing\n",
       "2498      Walking\n",
       "2499     Standing\n",
       "Name: 44, dtype: object"
      ]
     },
     "execution_count": 38,
     "metadata": {},
     "output_type": "execute_result"
    }
   ],
   "source": [
    "le = preprocessing.LabelEncoder()\n",
    "le.fit(y_train)\n",
    "y_train"
   ]
  },
  {
   "cell_type": "code",
   "execution_count": 39,
   "metadata": {
    "collapsed": false
   },
   "outputs": [],
   "source": [
    "dct = {\"Jogging\" : 1, \"LyingDown\" : 2, \"Sitting\" : 3, \"Stairs\" : 4, \"Standing\" : 5, \"Walking\" : 6}\n",
    "labels = {1:\"Jogging\", 2:\"LyingDown\", 3:\"Sitting\", 4:\"Stairs\", 5:\"Standing\", 6:\"Walking\"}"
   ]
  },
  {
   "cell_type": "code",
   "execution_count": 40,
   "metadata": {
    "collapsed": false
   },
   "outputs": [],
   "source": [
    "y_train = y_train.replace(dct)"
   ]
  },
  {
   "cell_type": "code",
   "execution_count": 41,
   "metadata": {
    "collapsed": false
   },
   "outputs": [
    {
     "data": {
      "text/plain": [
       "0       5\n",
       "1       6\n",
       "2       6\n",
       "3       3\n",
       "4       2\n",
       "5       5\n",
       "6       6\n",
       "7       6\n",
       "8       6\n",
       "9       6\n",
       "10      6\n",
       "11      5\n",
       "12      6\n",
       "13      6\n",
       "14      4\n",
       "15      5\n",
       "16      3\n",
       "17      5\n",
       "18      6\n",
       "19      3\n",
       "20      3\n",
       "21      5\n",
       "22      5\n",
       "23      3\n",
       "24      3\n",
       "25      3\n",
       "26      6\n",
       "27      3\n",
       "28      6\n",
       "29      6\n",
       "       ..\n",
       "2470    4\n",
       "2471    6\n",
       "2472    6\n",
       "2473    1\n",
       "2474    3\n",
       "2475    3\n",
       "2476    3\n",
       "2477    3\n",
       "2478    5\n",
       "2479    6\n",
       "2480    5\n",
       "2481    5\n",
       "2482    5\n",
       "2483    6\n",
       "2484    6\n",
       "2485    5\n",
       "2486    6\n",
       "2487    1\n",
       "2488    3\n",
       "2489    5\n",
       "2490    5\n",
       "2491    6\n",
       "2492    6\n",
       "2493    6\n",
       "2494    2\n",
       "2495    2\n",
       "2496    3\n",
       "2497    5\n",
       "2498    6\n",
       "2499    5\n",
       "Name: 44, dtype: int64"
      ]
     },
     "execution_count": 41,
     "metadata": {},
     "output_type": "execute_result"
    }
   ],
   "source": [
    "y_train"
   ]
  },
  {
   "cell_type": "code",
   "execution_count": null,
   "metadata": {
    "collapsed": false
   },
   "outputs": [],
   "source": []
  },
  {
   "cell_type": "code",
   "execution_count": 42,
   "metadata": {
    "collapsed": true
   },
   "outputs": [],
   "source": [
    "y_transformed = y_train.values"
   ]
  },
  {
   "cell_type": "code",
   "execution_count": 43,
   "metadata": {
    "collapsed": false
   },
   "outputs": [
    {
     "data": {
      "text/plain": [
       "(2500,)"
      ]
     },
     "execution_count": 43,
     "metadata": {},
     "output_type": "execute_result"
    }
   ],
   "source": [
    "y_transformed.shape"
   ]
  },
  {
   "cell_type": "code",
   "execution_count": 44,
   "metadata": {
    "collapsed": false
   },
   "outputs": [],
   "source": [
    "from sklearn.cross_validation import train_test_split"
   ]
  },
  {
   "cell_type": "code",
   "execution_count": 45,
   "metadata": {
    "collapsed": true
   },
   "outputs": [],
   "source": [
    "X_train, X_test, y_train, y_test = train_test_split(x_scaled, y_transformed, test_size=0.20, random_state=42)"
   ]
  },
  {
   "cell_type": "code",
   "execution_count": null,
   "metadata": {
    "collapsed": true
   },
   "outputs": [],
   "source": []
  },
  {
   "cell_type": "code",
   "execution_count": null,
   "metadata": {
    "collapsed": true
   },
   "outputs": [],
   "source": []
  },
  {
   "cell_type": "code",
   "execution_count": 46,
   "metadata": {
    "collapsed": true
   },
   "outputs": [],
   "source": [
    "import sys\n",
    "import collections\n",
    "import itertools\n",
    "from scipy.stats import mode\n",
    "import numpy as np\n",
    "\n",
    "try:\n",
    "    from IPython.display import clear_output\n",
    "    have_ipython = True\n",
    "except ImportError:\n",
    "    have_ipython = False\n",
    "\n",
    "class KnnDtw(object):\n",
    "    \"\"\"K-nearest neighbor classifier using dynamic time warping\n",
    "    as the distance measure between pairs of time series arrays\n",
    "    \n",
    "    Arguments\n",
    "    ---------\n",
    "    n_neighbors : int, optional (default = 5)\n",
    "        Number of neighbors to use by default for KNN\n",
    "        \n",
    "    max_warping_window : int, optional (default = infinity)\n",
    "        Maximum warping window allowed by the DTW dynamic\n",
    "        programming function\n",
    "            \n",
    "    subsample_step : int, optional (default = 1)\n",
    "        Step size for the timeseries array. By setting subsample_step = 2,\n",
    "        the timeseries length will be reduced by 50% because every second\n",
    "        item is skipped. Implemented by x[:, ::subsample_step]\n",
    "    \"\"\"\n",
    "    \n",
    "    def __init__(self, n_neighbors=5, max_warping_window=10000, subsample_step=1):\n",
    "        self.n_neighbors = n_neighbors\n",
    "        self.max_warping_window = max_warping_window\n",
    "        self.subsample_step = subsample_step\n",
    "    \n",
    "    def fit(self, x, l):\n",
    "        \"\"\"Fit the model using x as training data and l as class labels\n",
    "        \n",
    "        Arguments\n",
    "        ---------\n",
    "        x : array of shape [n_samples, n_timepoints]\n",
    "            Training data set for input into KNN classifer\n",
    "            \n",
    "        l : array of shape [n_samples]\n",
    "            Training labels for input into KNN classifier\n",
    "        \"\"\"\n",
    "        \n",
    "        self.x = x\n",
    "        self.l = l\n",
    "        \n",
    "    def _dtw_distance(self, ts_a, ts_b, d = lambda x,y: abs(x-y)):\n",
    "        \"\"\"Returns the DTW similarity distance between two 2-D\n",
    "        timeseries numpy arrays.\n",
    "\n",
    "        Arguments\n",
    "        ---------\n",
    "        ts_a, ts_b : array of shape [n_samples, n_timepoints]\n",
    "            Two arrays containing n_samples of timeseries data\n",
    "            whose DTW distance between each sample of A and B\n",
    "            will be compared\n",
    "        \n",
    "        d : DistanceMetric object (default = abs(x-y))\n",
    "            the distance measure used for A_i - B_j in the\n",
    "            DTW dynamic programming function\n",
    "        \n",
    "        Returns\n",
    "        -------\n",
    "        DTW distance between A and B\n",
    "        \"\"\"\n",
    "\n",
    "        # Create cost matrix via broadcasting with large int\n",
    "        ts_a, ts_b = np.array(ts_a), np.array(ts_b)\n",
    "        M, N = len(ts_a), len(ts_b)\n",
    "        cost = sys.maxint * np.ones((M, N))\n",
    "\n",
    "        # Initialize the first row and column\n",
    "        cost[0, 0] = d(ts_a[0], ts_b[0])\n",
    "        for i in xrange(1, M):\n",
    "            cost[i, 0] = cost[i-1, 0] + d(ts_a[i], ts_b[0])\n",
    "\n",
    "        for j in xrange(1, N):\n",
    "            cost[0, j] = cost[0, j-1] + d(ts_a[0], ts_b[j])\n",
    "\n",
    "        # Populate rest of cost matrix within window\n",
    "        for i in xrange(1, M):\n",
    "            for j in xrange(max(1, i - self.max_warping_window),\n",
    "                            min(N, i + self.max_warping_window)):\n",
    "                choices = cost[i - 1, j - 1], cost[i, j-1], cost[i-1, j]\n",
    "                cost[i, j] = min(choices) + d(ts_a[i], ts_b[j])\n",
    "\n",
    "        # Return DTW distance given window \n",
    "        return cost[-1, -1]\n",
    "    \n",
    "    def _dist_matrix(self, x, y):\n",
    "        \"\"\"Computes the M x N distance matrix between the training\n",
    "        dataset and testing dataset (y) using the DTW distance measure\n",
    "        \n",
    "        Arguments\n",
    "        ---------\n",
    "        x : array of shape [n_samples, n_timepoints]\n",
    "        \n",
    "        y : array of shape [n_samples, n_timepoints]\n",
    "        \n",
    "        Returns\n",
    "        -------\n",
    "        Distance matrix between each item of x and y with\n",
    "            shape [training_n_samples, testing_n_samples]\n",
    "        \"\"\"\n",
    "        \n",
    "        # Compute the distance matrix        \n",
    "        dm_count = 0\n",
    "        \n",
    "        # Compute condensed distance matrix (upper triangle) of pairwise dtw distances\n",
    "        # when x and y are the same array\n",
    "        if(np.array_equal(x, y)):\n",
    "            x_s = shape(x)\n",
    "            dm = np.zeros((x_s[0] * (x_s[0] - 1)) // 2, dtype=np.double)\n",
    "            \n",
    "            p = ProgressBar(shape(dm)[0])\n",
    "            \n",
    "            for i in xrange(0, x_s[0] - 1):\n",
    "                for j in xrange(i + 1, x_s[0]):\n",
    "                    dm[dm_count] = self._dtw_distance(x[i, ::self.subsample_step],\n",
    "                                                      y[j, ::self.subsample_step])\n",
    "                    \n",
    "                    dm_count += 1\n",
    "                    p.animate(dm_count)\n",
    "            \n",
    "            # Convert to squareform\n",
    "            dm = squareform(dm)\n",
    "            return dm\n",
    "        \n",
    "        # Compute full distance matrix of dtw distnces between x and y\n",
    "        else:\n",
    "            x_s = np.shape(x)\n",
    "            y_s = np.shape(y)\n",
    "            dm = np.zeros((x_s[0], y_s[0])) \n",
    "            dm_size = x_s[0]*y_s[0]\n",
    "            \n",
    "            p = ProgressBar(dm_size)\n",
    "        \n",
    "            for i in xrange(0, x_s[0]):\n",
    "                for j in xrange(0, y_s[0]):\n",
    "                    dm[i, j] = self._dtw_distance(x[i, ::self.subsample_step],\n",
    "                                                  y[j, ::self.subsample_step])\n",
    "                    # Update progress bar\n",
    "                    dm_count += 1\n",
    "                    p.animate(dm_count)\n",
    "        \n",
    "            return dm\n",
    "        \n",
    "    def predict(self, x):\n",
    "        \"\"\"Predict the class labels or probability estimates for \n",
    "        the provided data\n",
    "\n",
    "        Arguments\n",
    "        ---------\n",
    "          x : array of shape [n_samples, n_timepoints]\n",
    "              Array containing the testing data set to be classified\n",
    "          \n",
    "        Returns\n",
    "        -------\n",
    "          2 arrays representing:\n",
    "              (1) the predicted class labels \n",
    "              (2) the knn label count probability\n",
    "        \"\"\"\n",
    "        \n",
    "        dm = self._dist_matrix(x, self.x)\n",
    "\n",
    "        # Identify the k nearest neighbors\n",
    "        knn_idx = dm.argsort()[:, :self.n_neighbors]\n",
    "\n",
    "        # Identify k nearest labels\n",
    "        knn_labels = self.l[knn_idx]\n",
    "        \n",
    "        # Model Label\n",
    "        mode_data = mode(knn_labels, axis=1)\n",
    "        mode_label = mode_data[0]\n",
    "        mode_proba = mode_data[1]/self.n_neighbors\n",
    "\n",
    "        return mode_label.ravel(), mode_proba.ravel()\n",
    "\n",
    "class ProgressBar:\n",
    "    \"\"\"This progress bar was taken from PYMC\n",
    "    \"\"\"\n",
    "    def __init__(self, iterations):\n",
    "        self.iterations = iterations\n",
    "        self.prog_bar = '[]'\n",
    "        self.fill_char = '*'\n",
    "        self.width = 40\n",
    "        self.__update_amount(0)\n",
    "        if have_ipython:\n",
    "            self.animate = self.animate_ipython\n",
    "        else:\n",
    "            self.animate = self.animate_noipython\n",
    "\n",
    "    def animate_ipython(self, iter):\n",
    "        print '\\r', self,\n",
    "        sys.stdout.flush()\n",
    "        self.update_iteration(iter + 1)\n",
    "\n",
    "    def update_iteration(self, elapsed_iter):\n",
    "        self.__update_amount((elapsed_iter / float(self.iterations)) * 100.0)\n",
    "        self.prog_bar += '  %d of %s complete' % (elapsed_iter, self.iterations)\n",
    "\n",
    "    def __update_amount(self, new_amount):\n",
    "        percent_done = int(round((new_amount / 100.0) * 100.0))\n",
    "        all_full = self.width - 2\n",
    "        num_hashes = int(round((percent_done / 100.0) * all_full))\n",
    "        self.prog_bar = '[' + self.fill_char * num_hashes + ' ' * (all_full - num_hashes) + ']'\n",
    "        pct_place = (len(self.prog_bar) // 2) - len(str(percent_done))\n",
    "        pct_string = '%d%%' % percent_done\n",
    "        self.prog_bar = self.prog_bar[0:pct_place] + \\\n",
    "            (pct_string + self.prog_bar[pct_place + len(pct_string):])\n",
    "\n",
    "    def __str__(self):\n",
    "        return str(self.prog_bar)"
   ]
  },
  {
   "cell_type": "code",
   "execution_count": null,
   "metadata": {
    "collapsed": true
   },
   "outputs": [],
   "source": []
  },
  {
   "cell_type": "code",
   "execution_count": 47,
   "metadata": {
    "collapsed": false
   },
   "outputs": [
    {
     "data": {
      "text/plain": [
       "(500,)"
      ]
     },
     "execution_count": 47,
     "metadata": {},
     "output_type": "execute_result"
    }
   ],
   "source": [
    "y_transformed[::5].shape"
   ]
  },
  {
   "cell_type": "code",
   "execution_count": 48,
   "metadata": {
    "collapsed": true
   },
   "outputs": [],
   "source": [
    "from sklearn.decomposition import RandomizedPCA"
   ]
  },
  {
   "cell_type": "code",
   "execution_count": 49,
   "metadata": {
    "collapsed": false
   },
   "outputs": [],
   "source": [
    "\n",
    "pca = RandomizedPCA(n_components=6,whiten=True).fit(X_train)"
   ]
  },
  {
   "cell_type": "code",
   "execution_count": 50,
   "metadata": {
    "collapsed": false
   },
   "outputs": [],
   "source": [
    "x_pca = pca.transform(X_train)\n",
    "x_test_pca = pca.transform(X_test)\n",
    "m = KnnDtw(n_neighbors=1, max_warping_window=10)\n",
    "m.fit(x_pca, y_train)"
   ]
  },
  {
   "cell_type": "code",
   "execution_count": null,
   "metadata": {
    "collapsed": false
   },
   "outputs": [
    {
     "name": "stdout",
     "output_type": "stream",
     "text": [
      "[                  1%                  ]  9779 of 1000000 complete"
     ]
    }
   ],
   "source": [
    "label, proba = m.predict(x_test_pca)"
   ]
  },
  {
   "cell_type": "code",
   "execution_count": 26,
   "metadata": {
    "collapsed": false
   },
   "outputs": [
    {
     "name": "stdout",
     "output_type": "stream",
     "text": [
      "             precision    recall  f1-score   support\n",
      "\n",
      "    Jogging       0.80      0.67      0.73         6\n",
      "  LyingDown       0.75      0.84      0.79        25\n",
      "    Sitting       0.77      0.85      0.81        48\n",
      "     Stairs       0.71      0.83      0.77        12\n",
      "   Standing       0.90      0.71      0.79        38\n",
      "    Walking       0.95      0.94      0.95        89\n",
      "\n",
      "avg / total       0.86      0.86      0.86       218\n",
      "\n"
     ]
    }
   ],
   "source": [
    "from sklearn.metrics import classification_report, confusion_matrix\n",
    "print classification_report(label, y_test,\n",
    "                            target_names=[l for l in labels.values()])\n",
    "\n",
    "conf_mat = confusion_matrix(label, y_test)\n",
    "\n",
    "fig = plt.figure(figsize=(6,6))\n",
    "width = conf_mat.shape[1]\n",
    "height = conf_mat.shape[0]\n",
    "\n",
    "res = plt.imshow(conf_mat, cmap='summer', interpolation='nearest')\n",
    "for i, row in enumerate(conf_mat):\n",
    "    for j, c in enumerate(row):\n",
    "        if c>0:\n",
    "            plt.text(j-.2, i+.1, c, fontsize=16)\n",
    "            \n",
    "cb = fig.colorbar(res)\n",
    "plt.title('Confusion Matrix')\n",
    "_ = plt.xticks(range(6), [l for l in labels.values()], rotation=90)\n",
    "_ = plt.yticks(range(6), [l for l in labels.values()])\n",
    "plt.show()"
   ]
  },
  {
   "cell_type": "code",
   "execution_count": null,
   "metadata": {
    "collapsed": false
   },
   "outputs": [],
   "source": [
    "conf_mat.shape[1]"
   ]
  },
  {
   "cell_type": "code",
   "execution_count": null,
   "metadata": {
    "collapsed": true
   },
   "outputs": [],
   "source": []
  }
 ],
 "metadata": {
  "kernelspec": {
   "display_name": "Python 2",
   "language": "python",
   "name": "python2"
  },
  "language_info": {
   "codemirror_mode": {
    "name": "ipython",
    "version": 2
   },
   "file_extension": ".py",
   "mimetype": "text/x-python",
   "name": "python",
   "nbconvert_exporter": "python",
   "pygments_lexer": "ipython2",
   "version": "2.7.11"
  }
 },
 "nbformat": 4,
 "nbformat_minor": 0
}
