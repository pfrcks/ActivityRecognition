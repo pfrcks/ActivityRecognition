{
 "cells": [
  {
   "cell_type": "code",
   "execution_count": 1,
   "metadata": {
    "collapsed": true
   },
   "outputs": [],
   "source": [
    "import numpy as np\n",
    "import matplotlib.pylab as plt\n",
    "import pandas as pd\n",
    "from sklearn.neighbors import LSHForest\n",
    "import numpy as np\n",
    "from scipy.stats import mode\n",
    "from sklearn import preprocessing\n",
    "from sklearn.cross_validation import train_test_split\n",
    "from sklearn.decomposition import RandomizedPCA"
   ]
  },
  {
   "cell_type": "code",
   "execution_count": 2,
   "metadata": {
    "collapsed": true
   },
   "outputs": [],
   "source": [
    "class LSH_KNN:\n",
    "\n",
    "    def __init__(self, **kwargs):\n",
    "        self.n_neighbors = kwargs['n_neighbors']\n",
    "        self.lsh = LSHForest(**kwargs)\n",
    "\n",
    "    def fit(self, X, y):\n",
    "        self.y = y\n",
    "        self.lsh.fit(X)\n",
    "\n",
    "    def predict(self, X):\n",
    "        _, indices = self.lsh.kneighbors(X, n_neighbors = self.n_neighbors)\n",
    "        print indices\n",
    "        votes, _ = mode(self.y[indices], axis=1)\n",
    "        return votes.flatten()"
   ]
  },
  {
   "cell_type": "code",
   "execution_count": 3,
   "metadata": {
    "collapsed": false
   },
   "outputs": [],
   "source": [
    "dataframe = pd.read_csv(\"transformed_WISDM.csv\", header=None)\n",
    "dataframe.head()\n",
    "dataframe = dataframe.sample(frac=1).reset_index(drop=True)\n",
    "y_train = dataframe.ix[:, 44]\n",
    "X_train = dataframe.drop(dataframe.columns[[0, 44]], axis=1)\n",
    "x_numpy = X_train.values\n",
    "\n",
    "min_max_scaler = preprocessing.MinMaxScaler()\n",
    "x_scaled = min_max_scaler.fit_transform(x_numpy)\n",
    "dct = {\"Jogging\" : 1, \"LyingDown\" : 2, \"Sitting\" : 3, \"Stairs\" : 4, \"Standing\" : 5, \"Walking\" : 6}\n",
    "labels = {1:\"Jogging\", 2:\"LyingDown\", 3:\"Sitting\", 4:\"Stairs\", 5:\"Standing\", 6:\"Walking\"}\n",
    "y_train = y_train.replace(dct)\n",
    "y_transformed = y_train.values"
   ]
  },
  {
   "cell_type": "code",
   "execution_count": 4,
   "metadata": {
    "collapsed": true
   },
   "outputs": [],
   "source": [
    "X_train, X_test, y_train, y_test = train_test_split(x_scaled, y_transformed, test_size=0.30, random_state=42)"
   ]
  },
  {
   "cell_type": "code",
   "execution_count": 5,
   "metadata": {
    "collapsed": true
   },
   "outputs": [],
   "source": [
    "pca = RandomizedPCA(n_components=34,whiten=True).fit(X_train)\n",
    "x_pca = pca.transform(X_train)\n",
    "x_test_pca = pca.transform(X_test)"
   ]
  },
  {
   "cell_type": "code",
   "execution_count": 6,
   "metadata": {
    "collapsed": true
   },
   "outputs": [],
   "source": [
    "m = LSH_KNN(n_neighbors=1)"
   ]
  },
  {
   "cell_type": "code",
   "execution_count": 7,
   "metadata": {
    "collapsed": false
   },
   "outputs": [
    {
     "name": "stdout",
     "output_type": "stream",
     "text": [
      "[[ 339]\n",
      " [ 552]\n",
      " [3442]\n",
      " ..., \n",
      " [1119]\n",
      " [2744]\n",
      " [2273]]\n"
     ]
    }
   ],
   "source": [
    "m.fit(x_pca, y_train)\n",
    "label= m.predict(x_test_pca)"
   ]
  },
  {
   "cell_type": "code",
   "execution_count": 8,
   "metadata": {
    "collapsed": false
   },
   "outputs": [
    {
     "name": "stdout",
     "output_type": "stream",
     "text": [
      "(1631,)\n"
     ]
    }
   ],
   "source": [
    "print y_test.shape"
   ]
  },
  {
   "cell_type": "code",
   "execution_count": null,
   "metadata": {
    "collapsed": true
   },
   "outputs": [],
   "source": []
  },
  {
   "cell_type": "code",
   "execution_count": 9,
   "metadata": {
    "collapsed": false
   },
   "outputs": [
    {
     "name": "stdout",
     "output_type": "stream",
     "text": [
      "             precision    recall  f1-score   support\n",
      "\n",
      "    Jogging       0.81      0.89      0.85        38\n",
      "  LyingDown       0.93      0.97      0.95       180\n",
      "    Sitting       0.94      0.93      0.94       443\n",
      "     Stairs       0.71      0.85      0.77        60\n",
      "   Standing       0.94      0.93      0.94       260\n",
      "    Walking       0.96      0.94      0.95       650\n",
      "\n",
      "avg / total       0.94      0.94      0.94      1631\n",
      "\n"
     ]
    }
   ],
   "source": [
    "from sklearn.metrics import classification_report, confusion_matrix, accuracy_score, confusion_matrix\n",
    "print classification_report(label, y_test, target_names=[l for l in labels.values()])"
   ]
  },
  {
   "cell_type": "code",
   "execution_count": 10,
   "metadata": {
    "collapsed": true
   },
   "outputs": [],
   "source": [
    "conf_mat = confusion_matrix(label, y_test)\n",
    "\n",
    "fig = plt.figure(figsize=(6,6))\n",
    "width = conf_mat.shape[1]\n",
    "height = conf_mat.shape[0]\n",
    "\n",
    "res = plt.imshow(conf_mat, cmap='summer', interpolation='nearest')\n",
    "for i, row in enumerate(conf_mat):\n",
    "    for j, c in enumerate(row):\n",
    "        if c>0:\n",
    "            plt.text(j-.2, i+.1, c, fontsize=16)\n",
    "            \n",
    "cb = fig.colorbar(res)\n",
    "plt.title('Confusion Matrix')\n",
    "_ = plt.xticks(range(6), [l for l in labels.values()], rotation=90)\n",
    "_ = plt.yticks(range(6), [l for l in labels.values()])\n",
    "plt.show()"
   ]
  },
  {
   "cell_type": "code",
   "execution_count": 11,
   "metadata": {
    "collapsed": false
   },
   "outputs": [
    {
     "name": "stdout",
     "output_type": "stream",
     "text": [
      "0.935009196812\n"
     ]
    }
   ],
   "source": [
    "print accuracy_score(y_test, label)"
   ]
  },
  {
   "cell_type": "code",
   "execution_count": 12,
   "metadata": {
    "collapsed": false
   },
   "outputs": [
    {
     "name": "stdout",
     "output_type": "stream",
     "text": [
      "[[ 34   0   0   0   0   8]\n",
      " [  1 175  10   0   2   1]\n",
      " [  1   4 412   2   9   8]\n",
      " [  2   0   0  51   0  19]\n",
      " [  0   1  10   0 243   4]\n",
      " [  0   0  11   7   6 610]]\n"
     ]
    }
   ],
   "source": [
    "print confusion_matrix(y_test, label)"
   ]
  },
  {
   "cell_type": "code",
   "execution_count": null,
   "metadata": {
    "collapsed": true
   },
   "outputs": [],
   "source": []
  },
  {
   "cell_type": "code",
   "execution_count": null,
   "metadata": {
    "collapsed": true
   },
   "outputs": [],
   "source": []
  }
 ],
 "metadata": {
  "kernelspec": {
   "display_name": "Python 2",
   "language": "python",
   "name": "python2"
  },
  "language_info": {
   "codemirror_mode": {
    "name": "ipython",
    "version": 2
   },
   "file_extension": ".py",
   "mimetype": "text/x-python",
   "name": "python",
   "nbconvert_exporter": "python",
   "pygments_lexer": "ipython2",
   "version": "2.7.11"
  }
 },
 "nbformat": 4,
 "nbformat_minor": 0
}
